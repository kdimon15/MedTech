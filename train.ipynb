{
 "cells": [
  {
   "cell_type": "code",
   "execution_count": 1,
   "metadata": {},
   "outputs": [],
   "source": [
    "import numpy as np\n",
    "import pandas as pd\n",
    "from sklearn.preprocessing import LabelEncoder\n",
    "from catboost import Pool, CatBoostClassifier\n",
    "from sklearn.model_selection import StratifiedKFold\n",
    "from sklearn.metrics import recall_score\n",
    "import optuna\n",
    "from tqdm.notebook import tqdm\n",
    "import random\n",
    "\n",
    "pd.options.display.max_columns = 100\n",
    "pd.options.display.max_rows = 50\n",
    "optuna.logging.set_verbosity(0)\n",
    "\n",
    "seed = 777\n",
    "\n",
    "random.seed(seed)\n",
    "np.random.seed(seed)"
   ]
  },
  {
   "cell_type": "code",
   "execution_count": 2,
   "metadata": {},
   "outputs": [],
   "source": [
    "train = pd.read_csv('data/train.csv').drop('ID_y', axis=1)\n",
    "sample = pd.read_csv('data/sample_solution.csv')\n",
    "test = pd.read_csv('data/test_dataset_test.csv')\n",
    "\n",
    "train = train.drop('ID', axis=1)\n",
    "test = test.drop('ID', axis=1)\n",
    "\n",
    "test.loc[test['Статус Курения']=='Никогда не курил', 'Статус Курения'] = 'Никогда не курил(а)'\n",
    "test.loc[test['Религия'].isin(['Другое', 'Индуизм']), 'Религия'] = 'Нет'"
   ]
  },
  {
   "cell_type": "code",
   "execution_count": 3,
   "metadata": {},
   "outputs": [],
   "source": [
    "def get_features(df):\n",
    "    df['Время засыпания'] = pd.to_datetime(df['Время засыпания']).dt.hour + pd.to_datetime(df['Время засыпания']).dt.minute / 60\n",
    "    df.loc[df['Время засыпания']<12, 'Время засыпания'] += 24\n",
    "    df['Время пробуждения'] = pd.to_datetime(df['Время пробуждения']).dt.hour + pd.to_datetime(df['Время пробуждения']).dt.minute / 60\n",
    "    df.loc[df['Время пробуждения']<12, 'Время пробуждения'] += 24\n",
    "    \n",
    "    for x in ['Сигарет в день', 'Возраст курения', 'Возраст алког']:\n",
    "        df[x] = df[x].fillna(0)\n",
    "        \n",
    "    df.loc[df['Национальность']!='Русские', 'Национальность'] = 0\n",
    "    df.loc[df['Национальность']=='Русские', 'Национальность'] = 1\n",
    "    \n",
    "get_features(train)\n",
    "get_features(test)"
   ]
  },
  {
   "cell_type": "code",
   "execution_count": 4,
   "metadata": {},
   "outputs": [],
   "source": [
    "all_dicts = {}\n",
    "\n",
    "cols = ['Пол', 'Семья', 'Этнос', 'Образование', 'Частота пасс кур', 'Алкоголь', 'Статус Курения', 'Религия', 'Профессия']\n",
    "\n",
    "for x in cols:\n",
    "    all_dicts[x] = LabelEncoder().fit(train[x])\n",
    "    train[x] = all_dicts[x].transform(train[x])\n",
    "    test[x] = all_dicts[x].transform(test[x])"
   ]
  },
  {
   "cell_type": "code",
   "execution_count": 5,
   "metadata": {},
   "outputs": [],
   "source": [
    "target_cols = ['Артериальная гипертензия', 'ОНМК', 'Стенокардия, ИБС, инфаркт миокарда', 'Сердечная недостаточность', 'Прочие заболевания сердца']\n",
    "\n",
    "features = train.drop(target_cols, axis=1)\n",
    "target = train[target_cols].values"
   ]
  },
  {
   "cell_type": "code",
   "execution_count": 6,
   "metadata": {},
   "outputs": [],
   "source": [
    "cat_f = ['Пол', 'Семья', 'Этнос', 'Образование', 'Вы работаете?',\n",
    "       'Выход на пенсию', 'Прекращение работы по болезни', 'Сахарный диабет',\n",
    "       'Гепатит', 'Онкология', 'Хроническое заболевание легких',\n",
    "       'Бронжиальная астма', 'Туберкулез легких ',\n",
    "       'Регулярный прим лекарственных средств', 'Переломы',\n",
    "       'Статус Курения', 'Частота пасс кур', 'Алкоголь', 'Сон после обеда',\n",
    "       'Пассивное курение', 'Спорт, клубы', 'Религия, клубы',\n",
    "       'Профессия', 'Религия']"
   ]
  },
  {
   "cell_type": "code",
   "execution_count": 8,
   "metadata": {},
   "outputs": [],
   "source": [
    "def get_weights(i):\n",
    "    if i == 0: return [0.49, 0.51]\n",
    "    elif i == 1: return [0.15, 0.85]\n",
    "    elif i == 2: return [0.45, 0.65]\n",
    "    elif i == 3: return [0.3, 0.7]\n",
    "    elif i == 4: return [0.3, 0.7]\n",
    "    \n",
    "\n",
    "def objective(trial):\n",
    "    borders = trial.suggest_float('threshold', 0.001, 0.999)\n",
    "    score = recall_score(y_valid, (valid_predictions > borders).astype('int'), average='macro')\n",
    "    return score"
   ]
  },
  {
   "cell_type": "code",
   "execution_count": 9,
   "metadata": {},
   "outputs": [
    {
     "data": {
      "application/vnd.jupyter.widget-view+json": {
       "model_id": "736ce135252d49518f52f9dc0a3b0ac7",
       "version_major": 2,
       "version_minor": 0
      },
      "text/plain": [
       "  0%|          | 0/5 [00:00<?, ?it/s]"
      ]
     },
     "metadata": {},
     "output_type": "display_data"
    },
    {
     "data": {
      "text/plain": [
       "0.722356788586265"
      ]
     },
     "execution_count": 9,
     "metadata": {},
     "output_type": "execute_result"
    }
   ],
   "source": [
    "models = []\n",
    "all_scores = []\n",
    "for x in tqdm(range(5)):\n",
    "    cur_target = target[:, x]\n",
    "\n",
    "    strat_kfold = StratifiedKFold(n_splits=5, shuffle=True, random_state=seed)\n",
    "\n",
    "    test_predictions = np.zeros(len(test))\n",
    "    all_valid_labels = []\n",
    "    all_valid_preds = []\n",
    "\n",
    "    weights = get_weights(x)\n",
    "\n",
    "    for fold, (train_index, valid_index) in enumerate(strat_kfold.split(features, cur_target)):\n",
    "        X_train, y_train = features.iloc[train_index], cur_target[train_index]\n",
    "        X_valid, y_valid = features.iloc[valid_index], cur_target[valid_index]\n",
    "\n",
    "        valid_predictions = np.zeros(len(X_valid))\n",
    "        cur_test_preds = np.zeros(len(test))\n",
    "\n",
    "        for j in range(3):\n",
    "            model = CatBoostClassifier(\n",
    "                depth=4,\n",
    "                learning_rate=0.02,\n",
    "                iterations=3000,\n",
    "                random_seed=seed+j,\n",
    "                eval_metric='AUC',\n",
    "                early_stopping_rounds=2000,\n",
    "                class_weights=weights,\n",
    "                logging_level='Silent'\n",
    "            )\n",
    "\n",
    "            model.fit(Pool(X_train, y_train, cat_features=cat_f), eval_set=Pool(X_valid, y_valid, cat_features=cat_f), verbose=200)\n",
    "            valid_predictions += model.predict_proba(X_valid)[:, 1]\n",
    "            cur_test_preds += model.predict_proba(test)[:, 1]\n",
    "        \n",
    "        valid_predictions /= 5\n",
    "        cur_test_preds /= 5\n",
    "\n",
    "        study = optuna.create_study(direction='maximize')\n",
    "        study.optimize(objective, n_trials=1000)\n",
    "        threshold = study.best_params['threshold']\n",
    "\n",
    "        # test_predictions += (cur_test_preds > threshold).astype('int')\n",
    "        test_predictions += cur_test_preds - threshold\n",
    "        \n",
    "        all_valid_labels.append(y_valid)\n",
    "        all_valid_preds.append((valid_predictions > threshold).astype('int'))\n",
    "        \n",
    "    all_scores.append(recall_score(np.concatenate(all_valid_labels), np.concatenate(all_valid_preds), average='macro'))\n",
    "    sample[target_cols[x]] = (test_predictions > 0).astype('int')\n",
    "\n",
    "np.mean(all_scores)"
   ]
  },
  {
   "cell_type": "code",
   "execution_count": 12,
   "metadata": {},
   "outputs": [],
   "source": [
    "sample.to_csv('submit_new.csv', index=False)"
   ]
  },
  {
   "cell_type": "code",
   "execution_count": null,
   "metadata": {},
   "outputs": [],
   "source": []
  }
 ],
 "metadata": {
  "kernelspec": {
   "display_name": "Python 3.8.12 ('venv': venv)",
   "language": "python",
   "name": "python3"
  },
  "language_info": {
   "codemirror_mode": {
    "name": "ipython",
    "version": 3
   },
   "file_extension": ".py",
   "mimetype": "text/x-python",
   "name": "python",
   "nbconvert_exporter": "python",
   "pygments_lexer": "ipython3",
   "version": "3.8.12"
  },
  "orig_nbformat": 4,
  "vscode": {
   "interpreter": {
    "hash": "3189c40e2407d04a9aa7d2fb0188ec1e2c0f2c6be7309c8246fcf74d8f055228"
   }
  }
 },
 "nbformat": 4,
 "nbformat_minor": 2
}
